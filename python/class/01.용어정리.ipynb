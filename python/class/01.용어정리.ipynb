{
 "cells": [
  {
   "attachments": {},
   "cell_type": "markdown",
   "metadata": {},
   "source": [
    "|용어|설명|\n",
    "|---|:---|\n",
    "|클래스|제품 설계도|\n",
    "|객체|설계도로 만든 제품|\n",
    "|속성|클래스 안의 변수|\n",
    "|메서드|클래스 안의 함수|\n",
    "|생성자|객체를 만들떄 실행되는 함수|\n",
    "|인스턴스|메모리에 살아있는 객체|"
   ]
  }
 ],
 "metadata": {
  "language_info": {
   "name": "python"
  },
  "orig_nbformat": 4
 },
 "nbformat": 4,
 "nbformat_minor": 2
}
